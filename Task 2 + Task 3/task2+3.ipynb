{
  "cells": [
    {
      "cell_type": "markdown",
      "metadata": {
        "id": "mpRzMuxmhu8o"
      },
      "source": [
        "#### Reimplement Task 1"
      ]
    },
    {
      "cell_type": "code",
      "source": [
        "# from google.colab import drive\n",
        "# drive.mount('/content/drive')"
      ],
      "metadata": {
        "id": "DqwS0uRyiGii"
      },
      "execution_count": 1,
      "outputs": []
    },
    {
      "cell_type": "code",
      "execution_count": 2,
      "metadata": {
        "id": "lkf0xNTOhu8s"
      },
      "outputs": [],
      "source": [
        "import PyPDF2\n",
        "\n",
        "#Extracting\n",
        "def extract_text_from_pdf(pdf_file):\n",
        "    text = \"\"\n",
        "    with open(pdf_file, 'rb') as file:\n",
        "        reader = PyPDF2.PdfReader(file)  # Use PdfReader instead of PdfFileReader\n",
        "        for page_num in range(len(reader.pages)):  # reader.pages gives a list of pages\n",
        "            page = reader.pages[page_num]\n",
        "            text += page.extract_text()\n",
        "    return text\n",
        "\n",
        "book1 = extract_text_from_pdf(\"/content/drive/MyDrive/1. Harry Potter and the Philosopher's Stone.pdf\")\n",
        "book2 = extract_text_from_pdf(\"/content/drive/MyDrive/2. Harry Potter and the Chamber of Secrets.pdf\")\n",
        "book3 = extract_text_from_pdf(\"/content/drive/MyDrive/3. Harry Potter and the Prisoner of Azkaban.pdf\")\n",
        "book4 = extract_text_from_pdf(\"/content/drive/MyDrive/4. Harry Potter and the Goblet.pdf\")"
      ]
    },
    {
      "cell_type": "code",
      "execution_count": 3,
      "metadata": {
        "id": "sZzzEIGOhu8t",
        "outputId": "2b4d8d15-b6ba-4042-9b82-3a6419d9609d",
        "colab": {
          "base_uri": "https://localhost:8080/"
        }
      },
      "outputs": [
        {
          "output_type": "stream",
          "name": "stderr",
          "text": [
            "[nltk_data] Downloading package punkt to /root/nltk_data...\n",
            "[nltk_data]   Package punkt is already up-to-date!\n",
            "[nltk_data] Downloading package stopwords to /root/nltk_data...\n",
            "[nltk_data]   Package stopwords is already up-to-date!\n"
          ]
        }
      ],
      "source": [
        "# Text Preprocessing:\n",
        "import nltk\n",
        "from nltk.corpus import stopwords\n",
        "from nltk.tokenize import word_tokenize\n",
        "import string\n",
        "\n",
        "nltk.download('punkt')\n",
        "nltk.download('stopwords')\n",
        "\n",
        "def preprocess_text(text):\n",
        "    tokens = word_tokenize(text.lower())\n",
        "    stop_words = set(stopwords.words('english'))\n",
        "    tokens = [word for word in tokens if word.isalnum() and word not in stop_words]\n",
        "    return tokens\n",
        "\n",
        "processed_text1 = preprocess_text(book1)\n",
        "processed_text2 = preprocess_text(book2)\n",
        "processed_text3 = preprocess_text(book3)\n",
        "processed_text4 = preprocess_text(book4)"
      ]
    },
    {
      "cell_type": "code",
      "execution_count": 4,
      "metadata": {
        "id": "nnc1bNb_hu8u",
        "outputId": "bfa799d3-bb56-46bd-83f4-568c02aad4dc",
        "colab": {
          "base_uri": "https://localhost:8080/"
        }
      },
      "outputs": [
        {
          "output_type": "stream",
          "name": "stdout",
          "text": [
            "Term-Document Matrix (Raw Frequency):\n",
            "[[ 1  1  1 ...  2  0  1]\n",
            " [ 1  1  1 ...  0  0  0]\n",
            " [ 1  1  1 ...  3  0  0]\n",
            " [ 1  1  1 ... 11  1  3]]\n",
            "\n",
            "Terms (Features):\n",
            "['10' '100' '101' ... 'zooming' 'éclair' 'éclairs']\n",
            "\n",
            "Execution Time: 0.4268815517425537 seconds\n"
          ]
        }
      ],
      "source": [
        "import time\n",
        "from sklearn.feature_extraction.text import CountVectorizer\n",
        "\n",
        "def ensure_string(text):\n",
        "    if isinstance(text, list):\n",
        "        return ' '.join(text)\n",
        "\n",
        "def build_term_document_matrix(documents):\n",
        "    vectorizer = CountVectorizer()\n",
        "    X = vectorizer.fit_transform(documents)\n",
        "    return X, vectorizer.get_feature_names_out()\n",
        "\n",
        "documents = [\n",
        "    ensure_string(processed_text1),\n",
        "    ensure_string(processed_text2),\n",
        "    ensure_string(processed_text3),\n",
        "    ensure_string(processed_text4)\n",
        "]\n",
        "\n",
        "start_time = time.time()\n",
        "\n",
        "term_document_matrix, terms = build_term_document_matrix(documents)\n",
        "\n",
        "execution_time = time.time() - start_time\n",
        "\n",
        "\n",
        "print(\"Term-Document Matrix (Raw Frequency):\")\n",
        "print(term_document_matrix.toarray())\n",
        "\n",
        "print(\"\\nTerms (Features):\")\n",
        "print(terms)\n",
        "\n",
        "print(f\"\\nExecution Time: {execution_time} seconds\")"
      ]
    },
    {
      "cell_type": "code",
      "execution_count": 5,
      "metadata": {
        "id": "tYmOqOZ_hu8v",
        "outputId": "a2a634fe-5f94-410b-8fc3-6b4c1d59821c",
        "colab": {
          "base_uri": "https://localhost:8080/"
        }
      },
      "outputs": [
        {
          "output_type": "stream",
          "name": "stdout",
          "text": [
            "Euclidean Distance Matrix:\n",
            " [[   0.          916.1129843  1463.21256146 3420.60564813]\n",
            " [ 916.1129843     0.         1134.279507   2952.26082859]\n",
            " [1463.21256146 1134.279507      0.         2456.55042692]\n",
            " [3420.60564813 2952.26082859 2456.55042692    0.        ]]\n"
          ]
        }
      ],
      "source": [
        "# Euclidean Distance\n",
        "from sklearn.metrics.pairwise import euclidean_distances\n",
        "\n",
        "euclidean_dist = euclidean_distances(term_document_matrix)\n",
        "print(\"Euclidean Distance Matrix:\\n\", euclidean_dist)"
      ]
    },
    {
      "cell_type": "code",
      "execution_count": 6,
      "metadata": {
        "id": "COnlzkJRhu8v",
        "outputId": "e36618fb-31e3-4040-de46-b7210c6f2108",
        "colab": {
          "base_uri": "https://localhost:8080/"
        }
      },
      "outputs": [
        {
          "output_type": "stream",
          "name": "stdout",
          "text": [
            "Cosine Similarity Matrix:\n",
            " [[1.         0.94329679 0.9416178  0.93467331]\n",
            " [0.94329679 1.         0.95078986 0.95214857]\n",
            " [0.9416178  0.95078986 1.         0.94577085]\n",
            " [0.93467331 0.95214857 0.94577085 1.        ]]\n"
          ]
        }
      ],
      "source": [
        "# Consine similarity\n",
        "from sklearn.metrics.pairwise import cosine_similarity\n",
        "\n",
        "cosine_sim = cosine_similarity(term_document_matrix)\n",
        "print(\"Cosine Similarity Matrix:\\n\", cosine_sim)"
      ]
    },
    {
      "cell_type": "code",
      "execution_count": 7,
      "metadata": {
        "id": "VOcxiHihhu8v",
        "outputId": "8a6b2a77-3b08-43be-f7af-c349a9461acc",
        "colab": {
          "base_uri": "https://localhost:8080/"
        }
      },
      "outputs": [
        {
          "output_type": "stream",
          "name": "stdout",
          "text": [
            "Term-Document Matrix for Selected Words:\n",
            "    wizard  magical  harry  spells  witch  journey\n",
            "0      42       11   1308       6     12       11\n",
            "1      47       16   1633       9     16        5\n",
            "2      39       31   2035       2     42        6\n",
            "3      83      125   3134      24     37       10\n"
          ]
        }
      ],
      "source": [
        "import numpy as np\n",
        "import pandas as pd\n",
        "from sklearn.feature_extraction.text import CountVectorizer\n",
        "from sklearn.metrics.pairwise import cosine_similarity\n",
        "from sklearn.decomposition import TruncatedSVD\n",
        "\n",
        "documents = [' '.join(processed_text1),\n",
        "             ' '.join(processed_text2),\n",
        "             ' '.join(processed_text3),\n",
        "             ' '.join(processed_text4)]\n",
        "\n",
        "representative_words = ['wizard', 'magical', 'harry', 'spells', 'witch', 'journey']\n",
        "\n",
        "# Create a CountVectorizer with the selected words\n",
        "vectorizer = CountVectorizer(vocabulary = representative_words)\n",
        "term_document_matrix = vectorizer.fit_transform(documents).toarray()\n",
        "\n",
        "df = pd.DataFrame(term_document_matrix, columns = representative_words)\n",
        "print(\"Term-Document Matrix for Selected Words:\\n\", df)"
      ]
    },
    {
      "cell_type": "code",
      "execution_count": 8,
      "metadata": {
        "id": "vRqWjkDOhu8w",
        "outputId": "2525ccbb-8bfc-4ad5-da5e-8026b7c7a056",
        "colab": {
          "base_uri": "https://localhost:8080/"
        }
      },
      "outputs": [
        {
          "output_type": "stream",
          "name": "stdout",
          "text": [
            "Cosine Similarity Matrix for Selected Words:\n",
            " [[1.         0.99997861 0.99980603 0.99946822]\n",
            " [0.99997861 1.         0.9998701  0.99954149]\n",
            " [0.99980603 0.9998701  1.         0.999609  ]\n",
            " [0.99946822 0.99954149 0.999609   1.        ]]\n"
          ]
        }
      ],
      "source": [
        "# Compute cosine similarity\n",
        "cosine_sim = cosine_similarity(term_document_matrix)\n",
        "print(\"Cosine Similarity Matrix for Selected Words:\\n\", cosine_sim)"
      ]
    },
    {
      "cell_type": "code",
      "execution_count": 9,
      "metadata": {
        "id": "ROWureOrhu8w",
        "outputId": "9b5af3c8-6306-4ca0-abb4-84d0ebd3955b",
        "colab": {
          "base_uri": "https://localhost:8080/"
        }
      },
      "outputs": [
        {
          "output_type": "stream",
          "name": "stdout",
          "text": [
            "Reduced Embeddings:\n",
            " [[1308.55565611  -23.64973942]\n",
            " [1633.60579063  -26.99254366]\n",
            " [2035.79150708  -26.59805943]\n",
            " [3137.64510112   41.17428047]]\n"
          ]
        }
      ],
      "source": [
        "# Reduce dimensionality using Truncated SVD\n",
        "n_components = 2\n",
        "svd = TruncatedSVD(n_components=n_components)\n",
        "reduced_embeddings = svd.fit_transform(term_document_matrix)\n",
        "\n",
        "print(\"Reduced Embeddings:\\n\", reduced_embeddings)"
      ]
    },
    {
      "cell_type": "markdown",
      "metadata": {
        "id": "LBvFIWoThu8w"
      },
      "source": [
        "#### Main task 2: Implement tf-idf to replace the raw frequency of the term-doc matrix in Question 1. Recompute the similarity between 4 Harry Potter books with cosine similarity metric."
      ]
    },
    {
      "cell_type": "markdown",
      "metadata": {
        "id": "kDUxWIyvhu8w"
      },
      "source": [
        "The part combines both ways for easy comparison"
      ]
    },
    {
      "cell_type": "code",
      "execution_count": 10,
      "metadata": {
        "id": "xWkCs6L7hu8x",
        "outputId": "0e2bca00-2af5-4d4f-ba3c-2eacba8a5829",
        "colab": {
          "base_uri": "https://localhost:8080/"
        }
      },
      "outputs": [
        {
          "output_type": "stream",
          "name": "stdout",
          "text": [
            "Term-Document Matrix with Raw Frequency:\n",
            "   10  100  101  102  103  104  105  106  107  108  ...  zombie  zonko  \\\n",
            "0   1    1    1    1    1    1    1    1    0    1  ...       2      0   \n",
            "1   1    1    1    1    1    1    1    1    0    1  ...       0      0   \n",
            "2   1    1    1    1    1    1    1    1    0    1  ...       1     11   \n",
            "3   1    1    1    1    1    1    1    0    1    1  ...       0      1   \n",
            "\n",
            "   zontal  zoo  zoological  zoom  zoomed  zooming  éclair  éclairs  \n",
            "0       0    7           0     1       1        2       0        1  \n",
            "1       0    2           0     0       2        0       0        0  \n",
            "2       0    0           0     0       9        3       0        0  \n",
            "3       1    0           1     4       9       11       1        3  \n",
            "\n",
            "[4 rows x 15458 columns]\n",
            "\n",
            "Cosine Similarity Matrix with Raw Frequency:\n",
            "          Book 1    Book 2    Book 3    Book 4\n",
            "Book 1  1.000000  0.943297  0.941618  0.934673\n",
            "Book 2  0.943297  1.000000  0.950790  0.952149\n",
            "Book 3  0.941618  0.950790  1.000000  0.945771\n",
            "Book 4  0.934673  0.952149  0.945771  1.000000\n",
            "\n",
            "TF-IDF Matrix:\n",
            "         10       100       101       102       103       104       105  \\\n",
            "0  0.000475  0.000475  0.000475  0.000475  0.000475  0.000475  0.000475   \n",
            "1  0.000384  0.000384  0.000384  0.000384  0.000384  0.000384  0.000384   \n",
            "2  0.000302  0.000302  0.000302  0.000302  0.000302  0.000302  0.000302   \n",
            "3  0.000185  0.000185  0.000185  0.000185  0.000185  0.000185  0.000185   \n",
            "\n",
            "        106       107       108  ...    zombie     zonko    zontal       zoo  \\\n",
            "0  0.000581  0.000000  0.000475  ...  0.001436  0.000000  0.000000  0.005026   \n",
            "1  0.000469  0.000000  0.000384  ...  0.000000  0.000000  0.000000  0.001160   \n",
            "2  0.000370  0.000000  0.000302  ...  0.000457  0.005024  0.000000  0.000000   \n",
            "3  0.000000  0.000355  0.000185  ...  0.000000  0.000280  0.000355  0.000000   \n",
            "\n",
            "   zoological      zoom    zoomed   zooming    éclair   éclairs  \n",
            "0    0.000000  0.000718  0.000475  0.001163  0.000000  0.000718  \n",
            "1    0.000000  0.000000  0.000768  0.000000  0.000000  0.000000  \n",
            "2    0.000000  0.000000  0.002721  0.001109  0.000000  0.000000  \n",
            "3    0.000355  0.001118  0.001665  0.002489  0.000355  0.000839  \n",
            "\n",
            "[4 rows x 15458 columns]\n",
            "\n",
            "Cosine Similarity Matrix with TF-IDF:\n",
            "          Book 1    Book 2    Book 3    Book 4\n",
            "Book 1  1.000000  0.924907  0.920044  0.909882\n",
            "Book 2  0.924907  1.000000  0.922645  0.923897\n",
            "Book 3  0.920044  0.922645  1.000000  0.913766\n",
            "Book 4  0.909882  0.923897  0.913766  1.000000\n"
          ]
        }
      ],
      "source": [
        "from sklearn.feature_extraction.text import TfidfVectorizer, CountVectorizer\n",
        "from sklearn.metrics.pairwise import cosine_similarity\n",
        "\n",
        "# Preprocessed documents (from your previous code)\n",
        "documents = [' '.join(processed_text1),\n",
        "             ' '.join(processed_text2),\n",
        "             ' '.join(processed_text3),\n",
        "             ' '.join(processed_text4)]\n",
        "\n",
        "# 1. Raw Frequency (CountVectorizer)\n",
        "count_vectorizer = CountVectorizer()\n",
        "count_matrix = count_vectorizer.fit_transform(documents).toarray()\n",
        "\n",
        "# Calculate Cosine Similarity with Raw Frequency\n",
        "cosine_sim_raw = cosine_similarity(count_matrix)\n",
        "\n",
        "# Convert to DataFrame for better readability\n",
        "count_df = pd.DataFrame(count_matrix, columns=count_vectorizer.get_feature_names_out())\n",
        "\n",
        "print(\"Term-Document Matrix with Raw Frequency:\")\n",
        "print(count_df)\n",
        "print(\"\\nCosine Similarity Matrix with Raw Frequency:\")\n",
        "print(pd.DataFrame(cosine_sim_raw, index=[f'Book {i+1}' for i in range(4)], columns=[f'Book {i+1}' for i in range(4)]))\n",
        "\n",
        "\n",
        "# 2. TF-IDF\n",
        "tfidf_vectorizer = TfidfVectorizer()\n",
        "tfidf_matrix = tfidf_vectorizer.fit_transform(documents).toarray()\n",
        "\n",
        "# Calculate Cosine Similarity with TF-IDF\n",
        "cosine_sim_tfidf = cosine_similarity(tfidf_matrix)\n",
        "\n",
        "# Convert to DataFrame for better readability\n",
        "tfidf_df = pd.DataFrame(tfidf_matrix, columns=tfidf_vectorizer.get_feature_names_out())\n",
        "\n",
        "print(\"\\nTF-IDF Matrix:\")\n",
        "print(tfidf_df)\n",
        "print(\"\\nCosine Similarity Matrix with TF-IDF:\")\n",
        "print(pd.DataFrame(cosine_sim_tfidf, index=[f'Book {i+1}' for i in range(4)], columns=[f'Book {i+1}' for i in range(4)]))\n"
      ]
    },
    {
      "cell_type": "markdown",
      "metadata": {
        "id": "2GokIO6Chu8x"
      },
      "source": [
        "- Raw Frequency: This matrix is based on the frequency of the words in each document, but does not take into account the importance of the word in each document, resulting in common words that can blur the differences between books.\n",
        "=> Tends to give higher similarity values for documents that share a lot of common words, even if those words are not particularly important or representative.\n",
        "- TF-IDF:When using TF-IDF, words that appear more in one document but less in other documents will have a higher weight. This helps improve the distinction between books\n",
        "=> Lowers the similarity for common words and focuses more on terms that are specific to a given document, resulting in a more meaningful similarity measure."
      ]
    },
    {
      "cell_type": "markdown",
      "metadata": {
        "id": "M10v8XdAhu8x"
      },
      "source": [
        "#### 3. Implement Pointwise Mutual Information (PMI) to replace the raw frequency of the term-doc matrix in Question 1. Recompute the similarity between 4 Harry Potter books with cosine similarity metric."
      ]
    },
    {
      "cell_type": "code",
      "source": [
        "import numpy as np\n",
        "import pandas as pd\n",
        "from sklearn.feature_extraction.text import CountVectorizer\n",
        "from sklearn.metrics.pairwise import cosine_similarity\n",
        "\n",
        "documents = [' '.join(processed_text1),\n",
        "             ' '.join(processed_text2),\n",
        "             ' '.join(processed_text3),\n",
        "             ' '.join(processed_text4)]\n",
        "\n",
        "count_vectorizer = CountVectorizer()\n",
        "count_matrix = count_vectorizer.fit_transform(documents).toarray()\n",
        "N = len(documents)\n",
        "\n",
        "term_freq = count_matrix.sum(axis=0)  # term_freq\n",
        "\n",
        "pmi_matrix = np.zeros(count_matrix.shape)\n",
        "\n",
        "for i in range(count_matrix.shape[0]):\n",
        "    for j in range(count_matrix.shape[1]):\n",
        "        if count_matrix[i, j] > 0:\n",
        "            p_word = term_freq[j] / (N * np.sum(term_freq))\n",
        "            p_doc = 1 / N\n",
        "            p_word_doc = count_matrix[i, j] / np.sum(term_freq)\n",
        "\n",
        "            pmi_value = np.log2(p_word_doc / (p_word * p_doc)) if p_word_doc > 0 else 0\n",
        "            pmi_matrix[i, j] = max(pmi_value, 0)\n",
        "\n",
        "cosine_sim_pmi = cosine_similarity(pmi_matrix)\n",
        "\n",
        "pmi_df = pd.DataFrame(pmi_matrix, columns=count_vectorizer.get_feature_names_out())\n",
        "\n",
        "print(\"\\nPMI Matrix:\")\n",
        "print(pmi_df)\n",
        "\n",
        "print(\"\\nCosine Similarity Matrix with PMI:\")\n",
        "print(pd.DataFrame(cosine_sim_pmi, index=[f'Book {i+1}' for i in range(N)], columns=[f'Book {i+1}' for i in range(N)]))"
      ],
      "metadata": {
        "colab": {
          "base_uri": "https://localhost:8080/"
        },
        "id": "xHCDwBLOyX-A",
        "outputId": "5ec988c8-9531-40a1-ebc4-67bc1a6517cb"
      },
      "execution_count": 18,
      "outputs": [
        {
          "output_type": "stream",
          "name": "stdout",
          "text": [
            "\n",
            "PMI Matrix:\n",
            "    10  100  101  102  103  104  105       106  107  108  ...    zombie  \\\n",
            "0  2.0  2.0  2.0  2.0  2.0  2.0  2.0  2.415037  0.0  2.0  ...  3.415037   \n",
            "1  2.0  2.0  2.0  2.0  2.0  2.0  2.0  2.415037  0.0  2.0  ...  0.000000   \n",
            "2  2.0  2.0  2.0  2.0  2.0  2.0  2.0  2.415037  0.0  2.0  ...  2.415037   \n",
            "3  2.0  2.0  2.0  2.0  2.0  2.0  2.0  0.000000  4.0  2.0  ...  0.000000   \n",
            "\n",
            "      zonko  zontal       zoo  zoological      zoom    zoomed   zooming  \\\n",
            "0  0.000000     0.0  3.637430         0.0  1.678072  0.000000  1.000000   \n",
            "1  0.000000     0.0  1.830075         0.0  0.000000  0.607683  0.000000   \n",
            "2  3.874469     0.0  0.000000         0.0  0.000000  2.777608  1.584963   \n",
            "3  0.415037     4.0  0.000000         4.0  3.678072  2.777608  3.459432   \n",
            "\n",
            "   éclair   éclairs  \n",
            "0     0.0  2.000000  \n",
            "1     0.0  0.000000  \n",
            "2     0.0  0.000000  \n",
            "3     4.0  3.584963  \n",
            "\n",
            "[4 rows x 15458 columns]\n",
            "\n",
            "Cosine Similarity Matrix with PMI:\n",
            "          Book 1    Book 2    Book 3    Book 4\n",
            "Book 1  1.000000  0.272526  0.284263  0.283266\n",
            "Book 2  0.272526  1.000000  0.317365  0.321567\n",
            "Book 3  0.284263  0.317365  1.000000  0.351577\n",
            "Book 4  0.283266  0.321567  0.351577  1.000000\n"
          ]
        }
      ]
    },
    {
      "cell_type": "markdown",
      "metadata": {
        "id": "tb-9mWR7hu8x"
      },
      "source": [
        "- The raw frequency matrix yields high similarity scores because many common words (which appear frequently in all books) dominate the similarity calculation.\n",
        "- The PMI matrix, on the other hand, adjusts for word significance by giving more weight to unique or rare words, leading to much lower similarity scores. This suggests that while the books may share common vocabulary, they differ significantly in terms of distinctive content."
      ]
    },
    {
      "cell_type": "code",
      "execution_count": 19,
      "metadata": {
        "id": "0FN3IaOwhu8x",
        "colab": {
          "base_uri": "https://localhost:8080/"
        },
        "outputId": "6ff57531-10b0-400b-e93c-439d9528d54b"
      },
      "outputs": [
        {
          "output_type": "stream",
          "name": "stdout",
          "text": [
            "\n",
            "Cosine Similarity with Raw Frequency:\n",
            "          Book 1    Book 2    Book 3    Book 4\n",
            "Book 1  1.000000  0.943297  0.941618  0.934673\n",
            "Book 2  0.943297  1.000000  0.950790  0.952149\n",
            "Book 3  0.941618  0.950790  1.000000  0.945771\n",
            "Book 4  0.934673  0.952149  0.945771  1.000000\n",
            "\n",
            "Cosine Similarity with TF-IDF:\n",
            "          Book 1    Book 2    Book 3    Book 4\n",
            "Book 1  1.000000  0.924907  0.920044  0.909882\n",
            "Book 2  0.924907  1.000000  0.922645  0.923897\n",
            "Book 3  0.920044  0.922645  1.000000  0.913766\n",
            "Book 4  0.909882  0.923897  0.913766  1.000000\n",
            "\n",
            "Cosine Similarity with PMI:\n",
            "          Book 1    Book 2    Book 3    Book 4\n",
            "Book 1  1.000000  0.272526  0.284263  0.283266\n",
            "Book 2  0.272526  1.000000  0.317365  0.321567\n",
            "Book 3  0.284263  0.317365  1.000000  0.351577\n",
            "Book 4  0.283266  0.321567  0.351577  1.000000\n"
          ]
        }
      ],
      "source": [
        "import numpy as np\n",
        "from sklearn.feature_extraction.text import CountVectorizer, TfidfVectorizer\n",
        "from sklearn.metrics.pairwise import cosine_similarity\n",
        "import pandas as pd\n",
        "\n",
        "# Step 1: Build the Term-Document Matrix with Raw Frequency\n",
        "def build_term_document_matrix(documents):\n",
        "    vectorizer = CountVectorizer()\n",
        "    X = vectorizer.fit_transform(documents)\n",
        "    return X.toarray(), vectorizer.get_feature_names_out()\n",
        "\n",
        "# Step 2: Build the Term-Document Matrix with TF-IDF\n",
        "def build_tfidf_matrix(documents):\n",
        "    vectorizer = TfidfVectorizer()\n",
        "    X = vectorizer.fit_transform(documents)\n",
        "    return X.toarray(), vectorizer.get_feature_names_out()\n",
        "\n",
        "# Step 3: Compute PMI for the Term-Document Matrix\n",
        "def compute_pmi(term_doc_matrix):\n",
        "    total_word_count = np.sum(term_doc_matrix)\n",
        "    word_freq = np.sum(term_doc_matrix, axis=0)\n",
        "    doc_freq = np.sum(term_doc_matrix, axis=1)\n",
        "    joint_prob = term_doc_matrix / total_word_count\n",
        "    pmi_matrix = np.zeros_like(term_doc_matrix, dtype=float)\n",
        "\n",
        "    for i in range(term_doc_matrix.shape[0]):\n",
        "        for j in range(term_doc_matrix.shape[1]):\n",
        "            if term_doc_matrix[i, j] > 0:\n",
        "                p_w = word_freq[j] / total_word_count\n",
        "                p_d = doc_freq[i] / total_word_count\n",
        "                pmi_value = np.log2(joint_prob[i, j] / (p_w * p_d))\n",
        "                pmi_matrix[i, j] = max(pmi_value, 0)  # Positive PMI (PPMI)\n",
        "\n",
        "    return pmi_matrix\n",
        "\n",
        "# Step 4: Cosine Similarity for each method\n",
        "def compute_cosine_similarity(matrix):\n",
        "    return cosine_similarity(matrix)\n",
        "\n",
        "# Step 5: Integrate the steps and compare the results\n",
        "documents = [\n",
        "    ' '.join(processed_text1),\n",
        "    ' '.join(processed_text2),\n",
        "    ' '.join(processed_text3),\n",
        "    ' '.join(processed_text4)\n",
        "]\n",
        "\n",
        "# Display Cosine Similarity Matrices\n",
        "print(\"\\nCosine Similarity with Raw Frequency:\")\n",
        "df_cosine_raw = pd.DataFrame(cosine_sim_raw, index=[f'Book {i+1}' for i in range(4)], columns=[f'Book {i+1}' for i in range(4)])\n",
        "print(df_cosine_raw)\n",
        "\n",
        "print(\"\\nCosine Similarity with TF-IDF:\")\n",
        "df_cosine_tfidf = pd.DataFrame(cosine_sim_tfidf, index=[f'Book {i+1}' for i in range(4)], columns=[f'Book {i+1}' for i in range(4)])\n",
        "print(df_cosine_tfidf)\n",
        "\n",
        "print(\"\\nCosine Similarity with PMI:\")\n",
        "df_cosine_pmi = pd.DataFrame(cosine_sim_pmi, index=[f'Book {i+1}' for i in range(4)], columns=[f'Book {i+1}' for i in range(4)])\n",
        "print(df_cosine_pmi)\n"
      ]
    },
    {
      "cell_type": "code",
      "execution_count": 20,
      "metadata": {
        "id": "eASC2fuEhu8y",
        "colab": {
          "base_uri": "https://localhost:8080/",
          "height": 1000
        },
        "outputId": "b7eff331-2cfb-4f49-f3e9-013ca2433758"
      },
      "outputs": [
        {
          "output_type": "display_data",
          "data": {
            "text/plain": [
              "<Figure size 600x400 with 2 Axes>"
            ],
            "image/png": "[encoded data removed]"
          },
          "metadata": {}
        },
        {
          "output_type": "display_data",
          "data": {
            "text/plain": [
              "<Figure size 600x400 with 2 Axes>"
            ],
            "image/png": "[encoded data removed]"
          },
          "metadata": {}
        },
        {
          "output_type": "display_data",
          "data": {
            "text/plain": [
              "<Figure size 600x400 with 2 Axes>"
            ],
            "image/png": "[encoded data removed]"
          },
          "metadata": {}
        }
      ],
      "source": [
        "import seaborn as sns\n",
        "import matplotlib.pyplot as plt\n",
        "import numpy as np\n",
        "import pandas as pd\n",
        "\n",
        "# Example cosine similarity matrices (replace with your actual data)\n",
        "cosine_sim_raw = np.array([[1.000, 0.943, 0.942, 0.935],\n",
        "                           [0.943, 1.000, 0.951, 0.952],\n",
        "                           [0.942, 0.951, 1.000, 0.946],\n",
        "                           [0.935, 0.952, 0.946, 1.000]])\n",
        "\n",
        "cosine_sim_tfidf = np.array([[1.000, 0.925, 0.920, 0.910],\n",
        "                             [0.925, 1.000, 0.923, 0.924],\n",
        "                             [0.920, 0.923, 1.000, 0.914],\n",
        "                             [0.910, 0.924, 0.914, 1.000]])\n",
        "\n",
        "cosine_sim_pmi = np.array([[1.000, 0.273, 0.284, 0.283],\n",
        "                           [0.273, 1.000, 0.318, 0.322],\n",
        "                           [0.284, 0.317, 1.000, 0.352],\n",
        "                           [0.283, 0.322, 0.351, 1.000]])\n",
        "\n",
        "# Labels for the documents\n",
        "labels = [f'Book {i+1}' for i in range(4)]\n",
        "\n",
        "# Create DataFrames for each similarity matrix\n",
        "df_cosine_raw = pd.DataFrame(cosine_sim_raw, index=labels, columns=labels)\n",
        "df_cosine_tfidf = pd.DataFrame(cosine_sim_tfidf, index=labels, columns=labels)\n",
        "df_cosine_pmi = pd.DataFrame(cosine_sim_pmi, index=labels, columns=labels)\n",
        "\n",
        "# Define the custom color palette\n",
        "cmap = sns.color_palette([\"#7994a0\", \"#a9becb\", \"#dbe5ea\", \"#f8f8f8\", \"#ffffff\"])\n",
        "\n",
        "# Function to plot heatmap\n",
        "def plot_heatmap(df, title):\n",
        "    plt.figure(figsize=(6, 4))\n",
        "    sns.heatmap(df, annot=True, cmap=cmap, linewidths=0.5, square=True, cbar=True)\n",
        "    plt.title(title)\n",
        "    plt.show()\n",
        "\n",
        "# Plot heatmaps for each similarity method\n",
        "plot_heatmap(df_cosine_raw, \"Cosine Similarity with Raw Frequency\")\n",
        "plot_heatmap(df_cosine_tfidf, \"Cosine Similarity with TF-IDF\")\n",
        "plot_heatmap(df_cosine_pmi, \"Cosine Similarity with PMI\")\n"
      ]
    }
  ],
  "metadata": {
    "kernelspec": {
      "display_name": "Python 3 (ipykernel)",
      "language": "python",
      "name": "python3"
    },
    "language_info": {
      "codemirror_mode": {
        "name": "ipython",
        "version": 3
      },
      "file_extension": ".py",
      "mimetype": "text/x-python",
      "name": "python",
      "nbconvert_exporter": "python",
      "pygments_lexer": "ipython3",
      "version": "3.12.3"
    },
    "colab": {
      "provenance": []
    }
  },
  "nbformat": 4,
  "nbformat_minor": 0
}