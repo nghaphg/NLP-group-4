{
 "cells": [
  {
   "cell_type": "markdown",
   "metadata": {},
   "source": [
    "# Task 1b: Implement Code to Build the Term-Document Matrix"
   ]
  },
  {
   "cell_type": "code",
   "execution_count": 47,
   "metadata": {},
   "outputs": [],
   "source": [
    "import PyPDF2\n",
    "\n",
    "def extract_text_from_pdf(pdf_file):\n",
    "    text = \"\"\n",
    "    with open(pdf_file, 'rb') as file:\n",
    "        reader = PyPDF2.PdfReader(file)  # Use PdfReader instead of PdfFileReader\n",
    "        for page_num in range(len(reader.pages)):  # reader.pages gives a list of pages\n",
    "            page = reader.pages[page_num]\n",
    "            text += page.extract_text()\n",
    "    return text\n",
    "\n",
    "book1 = extract_text_from_pdf(r\"D:\\Downloads\\NEU\\NAM 4 KI 1\\NLP\\Assignment group 4\\1. Harry Potter and the Philosopher's Stone.pdf\")\n",
    "book2 = extract_text_from_pdf(r\"D:\\Downloads\\NEU\\NAM 4 KI 1\\NLP\\Assignment group 4\\2. Harry Potter and the Chamber of Secrets.pdf\")\n",
    "book3 = extract_text_from_pdf(r\"D:\\Downloads\\NEU\\NAM 4 KI 1\\NLP\\Assignment group 4\\3. Harry Potter and the Prisoner of Azkaban.pdf\")\n",
    "book4 = extract_text_from_pdf(r\"D:\\Downloads\\NEU\\NAM 4 KI 1\\NLP\\Assignment group 4\\4. Harry Potter and the Goblet.pdf\")"
   ]
  },
  {
   "cell_type": "code",
   "execution_count": 48,
   "metadata": {},
   "outputs": [
    {
     "name": "stderr",
     "output_type": "stream",
     "text": [
      "[nltk_data] Downloading package punkt to\n",
      "[nltk_data]     C:\\Users\\Nghaphg\\AppData\\Roaming\\nltk_data...\n",
      "[nltk_data]   Package punkt is already up-to-date!\n",
      "[nltk_data] Downloading package stopwords to\n",
      "[nltk_data]     C:\\Users\\Nghaphg\\AppData\\Roaming\\nltk_data...\n",
      "[nltk_data]   Package stopwords is already up-to-date!\n"
     ]
    }
   ],
   "source": [
    "# Text Preprocessing:\n",
    "import nltk\n",
    "from nltk.corpus import stopwords\n",
    "from nltk.tokenize import word_tokenize\n",
    "import string\n",
    "\n",
    "nltk.download('punkt')\n",
    "nltk.download('stopwords')\n",
    "\n",
    "def preprocess_text(text):\n",
    "    tokens = word_tokenize(text.lower())\n",
    "    stop_words = set(stopwords.words('english'))\n",
    "    tokens = [word for word in tokens if word.isalnum() and word not in stop_words]\n",
    "    return tokens\n",
    "\n",
    "processed_text1 = preprocess_text(book1)\n",
    "processed_text2 = preprocess_text(book2)\n",
    "processed_text3 = preprocess_text(book3)\n",
    "processed_text4 = preprocess_text(book4)\n"
   ]
  },
  {
   "cell_type": "code",
   "execution_count": 49,
   "metadata": {},
   "outputs": [
    {
     "name": "stdout",
     "output_type": "stream",
     "text": [
      "Term-Document Matrix (Raw Frequency):\n",
      "[[ 1  1  1 ...  2  0  1]\n",
      " [ 1  1  1 ...  0  0  0]\n",
      " [ 1  1  1 ...  3  0  0]\n",
      " [ 1  1  1 ... 11  1  3]]\n",
      "\n",
      "Terms (Features):\n",
      "['10' '100' '101' ... 'zooming' 'éclair' 'éclairs']\n",
      "\n",
      "Execution Time: 0.20378589630126953 seconds\n"
     ]
    }
   ],
   "source": [
    "import time\n",
    "from sklearn.feature_extraction.text import CountVectorizer\n",
    "\n",
    "def ensure_string(text):\n",
    "    if isinstance(text, list):\n",
    "        return ' '.join(text)  \n",
    "\n",
    "def build_term_document_matrix(documents):\n",
    "    vectorizer = CountVectorizer() \n",
    "    X = vectorizer.fit_transform(documents)  \n",
    "    return X, vectorizer.get_feature_names_out()  \n",
    "\n",
    "documents = [\n",
    "    ensure_string(processed_text1),\n",
    "    ensure_string(processed_text2),\n",
    "    ensure_string(processed_text3),\n",
    "    ensure_string(processed_text4)\n",
    "]\n",
    "\n",
    "start_time = time.time()\n",
    "\n",
    "term_document_matrix, terms = build_term_document_matrix(documents)\n",
    "\n",
    "execution_time = time.time() - start_time\n",
    "\n",
    "\n",
    "print(\"Term-Document Matrix (Raw Frequency):\")\n",
    "print(term_document_matrix.toarray()) \n",
    "\n",
    "print(\"\\nTerms (Features):\")\n",
    "print(terms)  \n",
    "\n",
    "print(f\"\\nExecution Time: {execution_time} seconds\")"
   ]
  },
  {
   "cell_type": "markdown",
   "metadata": {},
   "source": [
    "# Task 1c: Compute Similarities Using Euclidean Distance and Cosine Similarity"
   ]
  },
  {
   "cell_type": "code",
   "execution_count": 50,
   "metadata": {},
   "outputs": [
    {
     "name": "stdout",
     "output_type": "stream",
     "text": [
      "Euclidean Distance Matrix:\n",
      " [[   0.          916.1129843  1463.21256146 3420.60564813]\n",
      " [ 916.1129843     0.         1134.279507   2952.26082859]\n",
      " [1463.21256146 1134.279507      0.         2456.55042692]\n",
      " [3420.60564813 2952.26082859 2456.55042692    0.        ]]\n"
     ]
    }
   ],
   "source": [
    "# Euclidean Distance\n",
    "from sklearn.metrics.pairwise import euclidean_distances\n",
    "\n",
    "euclidean_dist = euclidean_distances(term_document_matrix)\n",
    "print(\"Euclidean Distance Matrix:\\n\", euclidean_dist)\n"
   ]
  },
  {
   "cell_type": "code",
   "execution_count": 51,
   "metadata": {},
   "outputs": [
    {
     "name": "stdout",
     "output_type": "stream",
     "text": [
      "Cosine Similarity Matrix:\n",
      " [[1.         0.94329679 0.9416178  0.93467331]\n",
      " [0.94329679 1.         0.95078986 0.95214857]\n",
      " [0.9416178  0.95078986 1.         0.94577085]\n",
      " [0.93467331 0.95214857 0.94577085 1.        ]]\n"
     ]
    }
   ],
   "source": [
    "from sklearn.metrics.pairwise import cosine_similarity\n",
    "\n",
    "cosine_sim = cosine_similarity(term_document_matrix)\n",
    "print(\"Cosine Similarity Matrix:\\n\", cosine_sim)\n"
   ]
  },
  {
   "cell_type": "code",
   "execution_count": null,
   "metadata": {},
   "outputs": [],
   "source": []
  }
 ],
 "metadata": {
  "kernelspec": {
   "display_name": "credit_risk",
   "language": "python",
   "name": "python3"
  },
  "language_info": {
   "codemirror_mode": {
    "name": "ipython",
    "version": 3
   },
   "file_extension": ".py",
   "mimetype": "text/x-python",
   "name": "python",
   "nbconvert_exporter": "python",
   "pygments_lexer": "ipython3",
   "version": "3.9.12"
  }
 },
 "nbformat": 4,
 "nbformat_minor": 2
}
